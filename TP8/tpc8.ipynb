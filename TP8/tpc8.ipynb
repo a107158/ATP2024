{
 "cells": [
  {
   "cell_type": "markdown",
   "id": "1e545158",
   "metadata": {},
   "source": [
    "# Aula Prática 8 (guião)\n",
    "### Semana de 28 de Outubro a 1 de Novembro de 2023\n",
    "### José Carlos Ramalho e Luís Cunha\n",
    "### Sinopsis:\n",
    "Consolidação e aferição de tudo o que foi feito até ao momento. "
   ]
  },
  {
   "cell_type": "markdown",
   "id": "4193a91b",
   "metadata": {},
   "source": [
    "## TPC8: Teste de aferição\n",
    "\n",
    "Resolva os problemas apresentados a seguir."
   ]
  },
  {
   "cell_type": "markdown",
   "id": "ecb162bd",
   "metadata": {},
   "source": [
    "### tpc-1. Especifique as seguintes listas em compreensão:"
   ]
  },
  {
   "cell_type": "markdown",
   "id": "4e758271",
   "metadata": {},
   "source": [
    "#### a) Lista formada pelos elementos que não são comuns às duas listas:"
   ]
  },
  {
   "cell_type": "code",
   "execution_count": 2,
   "id": "1fe48423",
   "metadata": {},
   "outputs": [
    {
     "name": "stdout",
     "output_type": "stream",
     "text": [
      "[1, 2, 3, 6, 7, 8]\n"
     ]
    }
   ],
   "source": [
    "lista1 = [1, 2, 3, 4, 5]\n",
    "lista2 = [4, 5, 6, 7, 8]  \n",
    "ncomuns = [...]\n",
    "# Resultado esperado: [1,2,3,7,8]\n",
    "\n",
    "ncomuns = [x for x in lista1 if not x in lista2] + [x for x in lista2 if not x in lista1]\n",
    "print(ncomuns)"
   ]
  },
  {
   "cell_type": "markdown",
   "id": "0ded2f03",
   "metadata": {},
   "source": [
    "#### b) Lista formada pelas palavras do texto compostas por mais de 3 letras:"
   ]
  },
  {
   "cell_type": "code",
   "execution_count": 5,
   "id": "4ae7f5d0",
   "metadata": {},
   "outputs": [
    {
     "name": "stdout",
     "output_type": "stream",
     "text": [
      "['Vivia', 'não', 'poucos', 'anos', 'algures', 'num', 'concelho', 'Ribatejo', 'pequeno', 'lavrador', 'negociante', 'gado', 'chamado', 'Manuel', 'Peres', 'Vigário']\n"
     ]
    }
   ],
   "source": [
    "texto = \"\"\"Vivia há já não poucos anos algures num concelho do Ribatejo \n",
    "    um pequeno lavrador e negociante de gado chamado Manuel Peres Vigário\"\"\"\n",
    "lista = [...]\n",
    "# Resultado esperado: ['Vivia', 'poucos', 'anos', 'algures', 'concelho', ...]\n",
    "\n",
    "lista = [x for x in texto.split(\" \") if len(x) >= 3]\n",
    "print(lista)\n",
    "\n"
   ]
  },
  {
   "cell_type": "markdown",
   "id": "ecf72afd",
   "metadata": {},
   "source": [
    "#### c) Lista formada por pares do tipo (índice, valor) com os valores da lista dada:"
   ]
  },
  {
   "cell_type": "code",
   "execution_count": 7,
   "id": "876b2cc3",
   "metadata": {},
   "outputs": [
    {
     "name": "stdout",
     "output_type": "stream",
     "text": [
      "[(1, 'anaconda'), (2, 'burro'), (3, 'cavalo'), (4, 'macaco')]\n"
     ]
    }
   ],
   "source": [
    "lista = ['anaconda', 'burro', 'cavalo', 'macaco']\n",
    "listaRes = [...]\n",
    "# Resultado esperado: [(1,'anaconda'), (2,'burro'), (3,'cavalo'), (4,'macaco')]\n",
    "\n",
    "listaRes = [(i + 1, lista[i]) for i in range(len(lista))]\n",
    "print(listaRes)\n"
   ]
  },
  {
   "cell_type": "markdown",
   "id": "28cb3dc4",
   "metadata": {},
   "source": [
    "### tpc-2. À semelhança do que foi feito nas aulas, realize as seguintes tarefas:"
   ]
  },
  {
   "cell_type": "markdown",
   "id": "5d3f1dbe",
   "metadata": {},
   "source": [
    "#### a) Especifique uma função que dada uma string e uma substring não vazia, calcula  o número de vezes em que a substring aparece na string, sem que haja sobreposição de substrings:"
   ]
  },
  {
   "cell_type": "code",
   "execution_count": 1,
   "id": "4458c7bc",
   "metadata": {},
   "outputs": [
    {
     "name": "stdout",
     "output_type": "stream",
     "text": [
      "2\n",
      "1\n",
      "0\n",
      "2\n",
      "1\n",
      "0\n"
     ]
    }
   ],
   "source": [
    "def strCount(s, subs):\n",
    "    i = 0\n",
    "    res = 0\n",
    "    while i < len(s):\n",
    "        if s[i: i + len(subs)] == subs:\n",
    "            res = res + 1\n",
    "            i = i + len(subs)\n",
    "        else:\n",
    "            i = i + 1\n",
    "    return res\n",
    "\n",
    "def strCount_rec(s, subs):\n",
    "\n",
    "    if s == \"\": \n",
    "          return 0\n",
    "    \n",
    "    if s[0: len(subs)] == subs: \n",
    "            return 1 + strCount_rec(s[len(subs):], subs) \n",
    "    \n",
    "    else: \n",
    "         return strCount_rec(s[len(subs):], subs)\n",
    "\n",
    "\n",
    "print(strCount(\"catcowcat\", \"cat\")) # --> 2\n",
    "print(strCount(\"catcowcat\", \"cow\")) # --> 1\n",
    "print(strCount(\"catcowcat\", \"dog\")) # --> 0\n",
    "print(strCount_rec(\"catcowcat\", \"cat\")) \n",
    "print(strCount_rec(\"catcowcat\", \"cow\")) \n",
    "print(strCount_rec(\"catcowcat\", \"dog\"))"
   ]
  },
  {
   "cell_type": "markdown",
   "id": "e6db31d7",
   "metadata": {},
   "source": [
    "#### b) Especifique uma função que recebe uma lista de números inteiros positivos e devolve o menor produto que for possível calcular multiplicando os 3 menores inteiros da lista:"
   ]
  },
  {
   "cell_type": "code",
   "execution_count": 9,
   "id": "2b5ad344",
   "metadata": {},
   "outputs": [
    {
     "name": "stdout",
     "output_type": "stream",
     "text": [
      "168\n"
     ]
    }
   ],
   "source": [
    "def produtoM3(lista):\n",
    "    lista_ordenada = sorted(lista)\n",
    "    produto3menores = lista_ordenada[0] * lista_ordenada[1] * lista_ordenada[2]\n",
    "    return produto3menores\n",
    "   \n",
    "print(produtoM3([12,3,7,10,12,8,9]))\n",
    "# Resultado esperado: 168 = 3 * 7 * 8"
   ]
  },
  {
   "cell_type": "markdown",
   "id": "6698b337",
   "metadata": {},
   "source": [
    "#### c) Especifique uma função que dado um número inteiro positivo, repetidamente adiciona os seus dígitos até obter apenas um dígito que é retornado como resultado:"
   ]
  },
  {
   "cell_type": "code",
   "execution_count": 13,
   "id": "54cef309",
   "metadata": {},
   "outputs": [
    {
     "name": "stdout",
     "output_type": "stream",
     "text": [
      "2\n",
      "3\n"
     ]
    }
   ],
   "source": [
    "# Input: 38\n",
    "# Output: 2\n",
    "# Explicação: 3 + 8 = 11, 1 + 1 = 2.\n",
    "\n",
    "# Input: 777\n",
    "# Output: 3\n",
    "# Explicação: 7 + 7 + 7 = 21, 2 + 1 = 3.\n",
    "\n",
    "def reduxInt(n):\n",
    "    while n >= 10: \n",
    "        soma = 0\n",
    "        for digito in str(n):\n",
    "            soma = soma + int(digito)\n",
    "        n = soma\n",
    "    return n\n",
    "\n",
    "print(reduxInt(38))\n",
    "print(reduxInt(777))"
   ]
  },
  {
   "cell_type": "markdown",
   "id": "4a47b6e8",
   "metadata": {},
   "source": [
    "#### d) Especifique uma função que recebe duas strings, `string1` e `string2`, e devolve o índice da primeira ocorrência de `string2` em `string1`, caso não ocorra nenhuma vez a função deverá retornar `-1`:"
   ]
  },
  {
   "cell_type": "code",
   "execution_count": 2,
   "id": "f0f4c2a8",
   "metadata": {},
   "outputs": [
    {
     "name": "stdout",
     "output_type": "stream",
     "text": [
      "-1\n",
      "13\n",
      "-1\n",
      "13\n"
     ]
    }
   ],
   "source": [
    "# Invocação: indexOf(\"Hoje está um belo dia de sol!\", \"belo\")\n",
    "# Resultado: 13\n",
    "\n",
    "# Invocação: indexOf(\"Hoje está um belo dia de sol!\", \"chuva\")\n",
    "# Resultado: -1\n",
    "\n",
    "def myIndexOf(s1, s2):\n",
    "    indice = -1\n",
    "    i = 0\n",
    "    while i < len(s1) - len(s2) and indice == -1:\n",
    "        if s1[i:i + len(s2)] == s2:\n",
    "            indice = i\n",
    "        i = i + 1    \n",
    "    return indice\n",
    "\n",
    "\n",
    "def myIndexOf_rec_aux(s1, s2, i):\n",
    "    if s1 == \"\" or i > len(s1) - len(s2): \n",
    "        return \"-1\"\n",
    "    \n",
    "    if s1[i:i + len(s2)] == s2:\n",
    "        return i\n",
    "    \n",
    "    else:\n",
    "        return myIndexOf_rec_aux(s1, s2, i + 1)\n",
    "\n",
    "\n",
    "def myIndexOf_rec(s1, s2):\n",
    "    return myIndexOf_rec_aux(s1, s2, 0)\n",
    "\n",
    "print(myIndexOf(\"Hoje está um belo dia de sol!\", \"chuva\"))\n",
    "print(myIndexOf(\"Hoje está um belo dia de sol!\", \"belo\"))\n",
    "print(myIndexOf_rec(\"Hoje está um belo dia de sol!\", \"chuva\"))\n",
    "print(myIndexOf_rec(\"Hoje está um belo dia de sol!\", \"belo\"))\n"
   ]
  },
  {
   "cell_type": "markdown",
   "id": "7cd572fc",
   "metadata": {},
   "source": [
    "### tpc-3. A Rede Social\n",
    "\n",
    "Considere que a informação sobre uma rede social está armazenada numa lista de dicionários.\n",
    "\n",
    "Cada dicionário, correspondente a um _post_ e tem chaves `id`, `conteudo`, `autor`, `dataCriacao` e `comentarios`.\n",
    "Por sua vez, `comentarios` é uma lista de dicionários com chaves `comentario` e `autor`.\n",
    "\n",
    "Considere o seguinte exemplo:\n",
    "\n",
    "``` \n",
    "    MyFaceBook = [{\n",
    "        'id': 'p1', \n",
    "        'conteudo': 'A tarefa de avaliação é talvez a mais ingrata das tarefas que um professor\n",
    "    tem de realizar...', \n",
    "        'autor': 'jcr', \n",
    "        'dataCriacao': '2023-07-20', \n",
    "        'comentarios': [\n",
    "            {\n",
    "                'comentario': 'Completamente de acordo...',\n",
    "                'autor': 'prh'\n",
    "            },\n",
    "            {\n",
    "                'comentario': 'Mas há quem goste...',\n",
    "                'autor': 'jj'\n",
    "            }\n",
    "        ]},\n",
    "        {\n",
    "            'id': 'p2',\n",
    "            ...\n",
    "        },\n",
    "        ...\n",
    "        ]\n",
    "```"
   ]
  },
  {
   "cell_type": "markdown",
   "id": "89afc758",
   "metadata": {},
   "source": [
    "Defina as seguintes funções de manipulação e consulta da rede social:"
   ]
  },
  {
   "cell_type": "markdown",
   "id": "1aec6cd8",
   "metadata": {},
   "source": [
    "#### a) `quantosPost`, que indica quantos posts estão registados:"
   ]
  },
  {
   "cell_type": "code",
   "execution_count": 18,
   "id": "39a813ee",
   "metadata": {},
   "outputs": [
    {
     "data": {
      "text/plain": [
       "3"
      ]
     },
     "execution_count": 18,
     "metadata": {},
     "output_type": "execute_result"
    }
   ],
   "source": [
    "def quantosPost(redeSocial):\n",
    "    return len(redeSocial)\n",
    "\n",
    "MyFaceBook = [\n",
    "    {\n",
    "        'id': 'p1',\n",
    "        'conteudo': 'A tarefa de avaliação é talvez a mais ingrata das tarefas que um professor tem de realizar...',\n",
    "        'autor': 'jcr',\n",
    "        'dataCriacao': '2023-07-20',\n",
    "        'comentarios': [\n",
    "            {'comentario': 'Completamente de acordo...', 'autor': 'prh'},\n",
    "            {'comentario': 'Mas há quem goste...', 'autor': 'jj'}\n",
    "        ]\n",
    "    },\n",
    "    {\n",
    "        'id': 'p2',\n",
    "        'conteudo': 'Python é incrível para análise de dados.',\n",
    "        'autor': 'ana',\n",
    "        'dataCriacao': '2023-07-21',\n",
    "        'comentarios': [\n",
    "            {'comentario': 'Concordo plenamente!', 'autor': 'jcr'},\n",
    "            {'comentario': 'Preciso aprender mais sobre isso.', 'autor': 'prh'}\n",
    "        ]\n",
    "    },\n",
    "    {\n",
    "        'id': 'p3',\n",
    "        'conteudo': 'Hoje o dia está lindo!',\n",
    "        'autor': 'jcr',\n",
    "        'dataCriacao': '2023-07-22',\n",
    "        'comentarios': []\n",
    "    }\n",
    "]\n",
    "\n",
    "quantosPost(MyFaceBook)"
   ]
  },
  {
   "cell_type": "markdown",
   "id": "2156a0c8",
   "metadata": {},
   "source": [
    "#### b)  `postsAutor`, que devolve a lista de posts de um determinado autor:"
   ]
  },
  {
   "cell_type": "code",
   "execution_count": 19,
   "id": "8a5a2a41",
   "metadata": {},
   "outputs": [
    {
     "data": {
      "text/plain": [
       "[{'id': 'p1',\n",
       "  'conteudo': 'A tarefa de avaliação é talvez a mais ingrata das tarefas que um professor tem de realizar...',\n",
       "  'autor': 'jcr',\n",
       "  'dataCriacao': '2023-07-20',\n",
       "  'comentarios': [{'comentario': 'Completamente de acordo...', 'autor': 'prh'},\n",
       "   {'comentario': 'Mas há quem goste...', 'autor': 'jj'}]},\n",
       " {'id': 'p3',\n",
       "  'conteudo': 'Hoje o dia está lindo!',\n",
       "  'autor': 'jcr',\n",
       "  'dataCriacao': '2023-07-22',\n",
       "  'comentarios': []}]"
      ]
     },
     "execution_count": 19,
     "metadata": {},
     "output_type": "execute_result"
    }
   ],
   "source": [
    "def postsAutor(redeSocial, autor):            \n",
    "    return [post for post in redeSocial if post['autor'] == autor]\n",
    "\n",
    "postsAutor(MyFaceBook, 'jcr')"
   ]
  },
  {
   "cell_type": "markdown",
   "id": "12f9126b",
   "metadata": {},
   "source": [
    "#### c) `autores`, que devolve a lista de autores de posts ordenada alfabeticamente:"
   ]
  },
  {
   "cell_type": "code",
   "execution_count": 20,
   "id": "d9dfe30a",
   "metadata": {},
   "outputs": [
    {
     "data": {
      "text/plain": [
       "{'ana', 'jcr'}"
      ]
     },
     "execution_count": 20,
     "metadata": {},
     "output_type": "execute_result"
    }
   ],
   "source": [
    "def autores(redeSocial):\n",
    "    return  {post['autor'] for post in redeSocial}\n",
    "\n",
    "autores(MyFaceBook)"
   ]
  },
  {
   "cell_type": "markdown",
   "id": "1a0f760b",
   "metadata": {},
   "source": [
    "#### d) `insPost`, que acrescenta um novo post à rede social a partir dos parâmetros recebidos e devolve a nova rede social. \n",
    "    \n",
    "O campo `id` devrá ser calculado a partir dos já existentes, por exemplo, se a rede tiver posts com id `p1`, `p2` e `p3`, o novo `id` deverá ser `p4`."
   ]
  },
  {
   "cell_type": "code",
   "execution_count": 22,
   "id": "e8579aac",
   "metadata": {},
   "outputs": [
    {
     "name": "stdout",
     "output_type": "stream",
     "text": [
      "{'id': 'p1', 'conteudo': 'A tarefa de avaliação é talvez a mais ingrata das tarefas que um professor tem de realizar...', 'autor': 'jcr', 'dataCriacao': '2023-07-20', 'comentarios': [{'comentario': 'Completamente de acordo...', 'autor': 'prh'}, {'comentario': 'Mas há quem goste...', 'autor': 'jj'}]}\n",
      "{'id': 'p2', 'conteudo': 'Python é incrível para análise de dados.', 'autor': 'ana', 'dataCriacao': '2023-07-21', 'comentarios': [{'comentario': 'Concordo plenamente!', 'autor': 'jcr'}, {'comentario': 'Preciso aprender mais sobre isso.', 'autor': 'prh'}]}\n",
      "{'id': 'p3', 'conteudo': 'Hoje o dia está lindo!', 'autor': 'jcr', 'dataCriacao': '2023-07-22', 'comentarios': []}\n",
      "{'id': 'p4', 'conteudo': 'Hoje aprendi sobre funções em Python.', 'autor': 'prh', 'dataCriacao': '2023-07-22', 'comentarios': [{'comentario': 'Muito bom!', 'autor': 'ana'}, {'comentario': 'Preciso estudar mais.', 'autor': 'jcr'}]}\n",
      "{'id': 'p5', 'conteudo': 'Hoje aprendi sobre funções em Python.', 'autor': 'prh', 'dataCriacao': '2023-07-22', 'comentarios': [{'comentario': 'Muito bom!', 'autor': 'ana'}, {'comentario': 'Preciso estudar mais.', 'autor': 'jcr'}]}\n"
     ]
    }
   ],
   "source": [
    "def insPost(redeSocial, conteudo, autor, dataCriacao, comentarios):\n",
    "    if redeSocial == []:\n",
    "        novo_id = \"p1\"\n",
    "    else: novo_id = f\"p{len(redeSocial) + 1}\"\n",
    "    novo_post = {'id': novo_id, 'conteudo': conteudo, 'autor': autor, 'dataCriacao': dataCriacao, 'comentarios': comentarios}\n",
    "    \n",
    "    novo_post = {\n",
    "        'id': novo_id,\n",
    "        'conteudo': conteudo,\n",
    "        'autor': autor,\n",
    "        'dataCriacao': dataCriacao,\n",
    "        'comentarios': comentarios  \n",
    "    }\n",
    "    \n",
    "    redeSocial.append(novo_post)\n",
    "    \n",
    "    return redeSocial\n",
    "\n",
    "MyFaceBook = insPost(\n",
    "    MyFaceBook,\n",
    "    'Hoje aprendi sobre funções em Python.',\n",
    "    'prh',\n",
    "    '2023-07-22',\n",
    "    [{'comentario': 'Muito bom!', 'autor': 'ana'}, {'comentario': 'Preciso estudar mais.', 'autor': 'jcr'}]\n",
    ")\n",
    "\n",
    "for post in MyFaceBook:\n",
    "    print(post)\n"
   ]
  },
  {
   "cell_type": "markdown",
   "id": "65061d0a",
   "metadata": {},
   "source": [
    "#### e)  `remPost`, que remove um post da rede, correspondente ao `id` recebido."
   ]
  },
  {
   "cell_type": "code",
   "execution_count": 25,
   "id": "60e073f6",
   "metadata": {},
   "outputs": [
    {
     "data": {
      "text/plain": [
       "[{'id': 'p1',\n",
       "  'conteudo': 'A tarefa de avaliação é talvez a mais ingrata das tarefas que um professor tem de realizar...',\n",
       "  'autor': 'jcr',\n",
       "  'dataCriacao': '2023-07-20',\n",
       "  'comentarios': [{'comentario': 'Completamente de acordo...', 'autor': 'prh'},\n",
       "   {'comentario': 'Mas há quem goste...', 'autor': 'jj'}]},\n",
       " {'id': 'p2',\n",
       "  'conteudo': 'Python é incrível para análise de dados.',\n",
       "  'autor': 'ana',\n",
       "  'dataCriacao': '2023-07-21',\n",
       "  'comentarios': [{'comentario': 'Concordo plenamente!', 'autor': 'jcr'},\n",
       "   {'comentario': 'Preciso aprender mais sobre isso.', 'autor': 'prh'}]},\n",
       " {'id': 'p3',\n",
       "  'conteudo': 'Hoje o dia está lindo!',\n",
       "  'autor': 'jcr',\n",
       "  'dataCriacao': '2023-07-22',\n",
       "  'comentarios': []},\n",
       " {'id': 'p4',\n",
       "  'conteudo': 'Hoje aprendi sobre funções em Python.',\n",
       "  'autor': 'prh',\n",
       "  'dataCriacao': '2023-07-22',\n",
       "  'comentarios': [{'comentario': 'Muito bom!', 'autor': 'ana'},\n",
       "   {'comentario': 'Preciso estudar mais.', 'autor': 'jcr'}]}]"
      ]
     },
     "execution_count": 25,
     "metadata": {},
     "output_type": "execute_result"
    }
   ],
   "source": [
    "def remPost(redeSocial, id):\n",
    "    for post in redeSocial:\n",
    "        if post[\"id\"] == id:\n",
    "            redeSocial.remove(post)\n",
    "    return redeSocial\n",
    "\n",
    "remPost(MyFaceBook, \"p5\")"
   ]
  },
  {
   "cell_type": "markdown",
   "id": "de46a635",
   "metadata": {},
   "source": [
    "#### f) `postsPorAutor`, que devolve uma distribuição de posts por autor (à semelhança do que foi feito nas aulas)."
   ]
  },
  {
   "cell_type": "code",
   "execution_count": 28,
   "id": "4118730d",
   "metadata": {},
   "outputs": [],
   "source": [
    "def postsPorAutor(redeSocial):\n",
    "    dicionario = {} \n",
    "    for post in redeSocial:\n",
    "        autor = post[\"autor\"] \n",
    "        if autor not in dicionario:\n",
    "            dicionario[autor] = 1\n",
    "        else:\n",
    "            dicionario[autor] = dicionario[autor] + 1\n",
    "    return dicionario"
   ]
  },
  {
   "cell_type": "markdown",
   "id": "5b1d7d7a",
   "metadata": {},
   "source": [
    "#### g) `comentadoPor`, que recebe um autor e devolve a lista de posts comentados por esse autor."
   ]
  },
  {
   "cell_type": "code",
   "execution_count": 29,
   "id": "a91f2619",
   "metadata": {},
   "outputs": [],
   "source": [
    "def comentadoPor(redeSocial, autor):\n",
    "    postsComentadosAutor = []\n",
    "    for post in redeSocial:\n",
    "        for comentario in post[\"comentarios\"]:\n",
    "            if comentario[\"autor\"] == autor:\n",
    "                postsComentadosAutor.append(post)\n",
    "    return postsComentadosAutor "
   ]
  }
 ],
 "metadata": {
  "kernelspec": {
   "display_name": "Python 3",
   "language": "python",
   "name": "python3"
  },
  "language_info": {
   "codemirror_mode": {
    "name": "ipython",
    "version": 3
   },
   "file_extension": ".py",
   "mimetype": "text/x-python",
   "name": "python",
   "nbconvert_exporter": "python",
   "pygments_lexer": "ipython3",
   "version": "3.12.6"
  }
 },
 "nbformat": 4,
 "nbformat_minor": 5
}
